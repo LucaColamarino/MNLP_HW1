{
 "cells": [
  {
   "cell_type": "markdown",
   "id": "d6c9ccda",
   "metadata": {},
   "source": [
    "# WIKIDATA"
   ]
  },
  {
   "cell_type": "markdown",
   "id": "20b5e15f",
   "metadata": {},
   "source": [
    "## Imports"
   ]
  },
  {
   "cell_type": "code",
   "execution_count": 1,
   "id": "e550779c",
   "metadata": {},
   "outputs": [
    {
     "name": "stdout",
     "output_type": "stream",
     "text": [
      "WARNING:tensorflow:From c:\\Users\\colam\\AppData\\Local\\Programs\\Python\\Python311\\Lib\\site-packages\\tf_keras\\src\\losses.py:2976: The name tf.losses.sparse_softmax_cross_entropy is deprecated. Please use tf.compat.v1.losses.sparse_softmax_cross_entropy instead.\n",
      "\n"
     ]
    }
   ],
   "source": [
    "from transformers import AutoTokenizer, AutoModelForSequenceClassification, Trainer, TrainingArguments\n",
    "from datasets import load_dataset, Dataset\n",
    "import pandas as pd\n",
    "import numpy as np\n",
    "from sklearn.preprocessing import LabelEncoder\n",
    "from sklearn.metrics import f1_score, accuracy_score, precision_score, recall_score, confusion_matrix, ConfusionMatrixDisplay, classification_report\n",
    "import torch\n",
    "import seaborn as sns\n",
    "import matplotlib.pyplot as plt\n",
    "import requests\n",
    "import time\n",
    "from tqdm import tqdm"
   ]
  },
  {
   "cell_type": "markdown",
   "id": "6e092a6c",
   "metadata": {},
   "source": [
    "## Functions"
   ]
  },
  {
   "cell_type": "code",
   "execution_count": 2,
   "id": "f67136a0",
   "metadata": {},
   "outputs": [],
   "source": [
    "# Function to get request in a more efficient way without 1 to 1 corresponding request\n",
    "def handle_get_request(entities_list,labeled):\n",
    "        batch_size=40 # number of entity from extraction \n",
    "        url_base = \"https://www.wikidata.org/w/api.php\" # url base to peform a HTTP request to obtain Wikidata properties using api\n",
    "        results = {} # dictionary  where entity |Qxxx| are the keys while the claims will be the corresponding values\n",
    "        total_batches = (len(entities_list) + batch_size - 1) // batch_size # compute how many subsets of extraction \n",
    "\n",
    "        with tqdm(total=total_batches, desc=f\"Downloading batch of class {labeled}\") as pbar:\n",
    "            for i in range(0, len(entities_list), batch_size): # loop for every batch of all entities\n",
    "\n",
    "                batch = entities_list[i:i + batch_size] # i-th batch\n",
    "                ids_string = \"|\".join(batch) # Considers a sequence of |Q1xxx|Q2xxx| items to collect from the server\n",
    "                \n",
    "                # define parameters of get request\n",
    "                params = { \n",
    "                    \"action\": \"wbgetentities\", # obtain wbentities\n",
    "                    \"ids\": ids_string, # specify which items we want to extract corresponding to the i-th batch\n",
    "                    \"format\": \"json\"\n",
    "                }\n",
    "\n",
    "                attempt=0 # number of attempt in case of errors\n",
    "                success=False\n",
    "\n",
    "                while not success and attempt <3:\n",
    "\n",
    "                    try:\n",
    "\n",
    "                        response_get_id = requests.get(url_base, params=params, timeout=20) # it obtains a get of properties using previous parameters  \n",
    "                        response_get_id.raise_for_status() # verify if the HTTP request fails and eventually store the error in e \n",
    "                        data = response_get_id.json() # extract data from json file\n",
    "\n",
    "                        entities = data.get(\"entities\", {}) # extract all properties of every item\n",
    "                        for entity_id, entity_data in entities.items():  \n",
    "                            claims = entity_data.get(\"claims\", {}) # obtain claims\n",
    "                            results[entity_id] = claims # collect all claims of an item |Qxxx| in a dictionary \n",
    "                        \n",
    "                        success=True\n",
    "                    except requests.exceptions.RequestException as e: \n",
    "\n",
    "                        print(f\"Batch Error {batch}: {e}\", flush=True)\n",
    "                        wait_time = 2 ** attempt  # we increase time with exponential control wrt the number of attempts\n",
    "                        \n",
    "                        print(f\"Retry waiting  {wait_time}s...\", flush=True)\n",
    "                        time.sleep(wait_time) # introduce a little execution delay to retry the same HTTP Request\n",
    "                        attempt+=1\n",
    "                pbar.update(1)\n",
    "            return results\n",
    "\n",
    "def enrich_with_wikidata(df, label=\"\"):\n",
    "    df = df.copy()\n",
    "    df[\"entity_id\"] = df[\"item\"].apply(lambda x: x.split(\"/\")[-1]) # get the entity id from the item column\n",
    "    entity_ids = df[\"entity_id\"].tolist() # list of all entity ids\n",
    "\n",
    "    claims_dict = handle_get_request(entity_ids, labeled=label) # get the claims of all entities using Wikidata API\n",
    "\n",
    "    countries = []\n",
    "    for eid in df[\"entity_id\"]: # for every entity id in the dataframe\n",
    "        claims = claims_dict.get(eid, {}) # get the claims of the entity id\n",
    "        country = \"\"\n",
    "        if \"P17\" in claims: # P17 is the property for country\n",
    "            try:\n",
    "                mainsnak = claims[\"P17\"][0].get(\"mainsnak\", {}) # get the mainsnak of the property\n",
    "                datavalue = mainsnak.get(\"datavalue\", {}) \n",
    "                value = datavalue.get(\"value\", {}) \n",
    "                country_id = value.get(\"id\", \"\") \n",
    "                country = country_id  # store the country id\n",
    "            except Exception as e: # handle any error\n",
    "                pass\n",
    "        countries.append(country)\n",
    "\n",
    "    df[\"country\"] = countries # add the country column to the dataframe\n",
    "    return df.drop(columns=[\"entity_id\"]) # remove the entity_id column\n",
    "\n",
    "def compute_metrics(p):\n",
    "    preds = np.argmax(p.predictions, axis=1)\n",
    "    labels = p.label_ids\n",
    "    cm = confusion_matrix(labels, preds)\n",
    "    plt.figure(figsize=(8, 6))\n",
    "    sns.heatmap(cm, annot=True, fmt=\"d\", cmap=\"Blues\", xticklabels=label_enc.classes_, yticklabels=label_enc.classes_)\n",
    "    plt.xlabel('Predicted labels')\n",
    "    plt.ylabel('True labels')\n",
    "    plt.title('Confusion Matrix')\n",
    "    plt.show()\n",
    "    return {\n",
    "        \"accuracy\": accuracy_score(labels, preds),\n",
    "        \"precision\": precision_score(labels, preds, average=\"macro\"),\n",
    "        \"recall\": recall_score(labels, preds, average=\"macro\"),\n",
    "        \"f1\": f1_score(labels, preds, average=\"macro\"),\n",
    "    }\n",
    "\n",
    "def predict(df, output_path):\n",
    "    model.eval()\n",
    "    device = torch.device(\"cuda\" if torch.cuda.is_available() else \"cpu\")\n",
    "    model.to(device)\n",
    "    with torch.no_grad():\n",
    "        inputs = tokenizer(df[\"text\"].tolist(), padding=True, truncation=True, return_tensors=\"pt\")\n",
    "        inputs = {key: val.to(device) for key, val in inputs.items()}\n",
    "        outputs = model(**inputs)\n",
    "        preds = outputs.logits.argmax(axis=1).detach().cpu().numpy()\n",
    "    df[\"classification\"] = label_enc.inverse_transform(preds)\n",
    "    df[[\"name\", \"description\", \"label\",\"country\",\"classification\"]].to_csv(output_path, index=False)\n",
    "\n",
    "def plot_confusion_matrix(df):\n",
    "    y_true = df[\"label\"]\n",
    "    y_pred = df[\"classification\"]\n",
    "    cm = confusion_matrix(y_true, y_pred, labels=label_enc.classes_)\n",
    "    disp = ConfusionMatrixDisplay(confusion_matrix=cm, display_labels=label_enc.classes_)\n",
    "    fig, ax = plt.subplots(figsize=(10, 8))\n",
    "    disp.plot(ax=ax, cmap=\"Blues\", xticks_rotation=45)\n",
    "    plt.title(\"Confusion Matrix\")\n",
    "    plt.show()\n"
   ]
  },
  {
   "cell_type": "markdown",
   "id": "35aaa468",
   "metadata": {},
   "source": [
    "## Load Dataset"
   ]
  },
  {
   "cell_type": "code",
   "execution_count": 3,
   "id": "f3fc868c",
   "metadata": {},
   "outputs": [],
   "source": [
    "ds = load_dataset(\"sapienzanlp/nlp2025_hw1_cultural_dataset\")\n",
    "train_df = pd.DataFrame(ds[\"train\"])\n",
    "val_df = pd.DataFrame(ds[\"validation\"])"
   ]
  },
  {
   "cell_type": "markdown",
   "id": "366e50a6",
   "metadata": {},
   "source": [
    "## Dataset Enrichment"
   ]
  },
  {
   "cell_type": "code",
   "execution_count": 4,
   "id": "7674f259",
   "metadata": {},
   "outputs": [
    {
     "name": "stderr",
     "output_type": "stream",
     "text": [
      "Downloading batch of class train: 100%|██████████| 157/157 [03:36<00:00,  1.38s/it]\n",
      "Downloading batch of class val: 100%|██████████| 8/8 [00:12<00:00,  1.60s/it]\n"
     ]
    }
   ],
   "source": [
    "train_df = enrich_with_wikidata(train_df, label=\"train\")\n",
    "val_df = enrich_with_wikidata(val_df, label=\"val\")"
   ]
  },
  {
   "cell_type": "markdown",
   "id": "02d1588d",
   "metadata": {},
   "source": [
    "## Tokenizer and Model"
   ]
  },
  {
   "cell_type": "code",
   "execution_count": null,
   "id": "c076ce27",
   "metadata": {},
   "outputs": [],
   "source": [
    "from transformers import AutoTokenizer, AutoModel\n",
    "import torch.nn as nn\n",
    "import torch\n",
    "\n",
    "from transformers.modeling_outputs import SequenceClassifierOutput\n",
    "model_name = \"distilroberta-base\" # pre-trained model name\n",
    "\n",
    "tokenizer = AutoTokenizer.from_pretrained(model_name)\n",
    "base_model = AutoModel.from_pretrained(model_name)\n",
    "import torch\n",
    "import torch.nn as nn\n",
    "from transformers.modeling_outputs import SequenceClassifierOutput\n",
    "from sklearn.utils.class_weight import compute_class_weight\n",
    "import numpy as np\n",
    "import torch\n",
    "import torch\n",
    "import torch.nn as nn\n",
    "from transformers.modeling_outputs import SequenceClassifierOutput\n",
    "\n",
    "# Custom Classifier\n",
    "# define a custom classifier that uses the base model\n",
    "# and adds a linear layer for classification\n",
    "\n",
    "\n",
    "\n",
    "class CustomClassifier(nn.Module): \n",
    "    def __init__(self, base_model, hidden_size, num_labels, dropout_prob=0.3):\n",
    "        super(CustomClassifier, self).__init__()\n",
    "        self.roberta = base_model # base model (DistilRoBERTa)\n",
    "\n",
    "\n",
    "        self.classifier = nn.Sequential( # classifier layers\n",
    "            nn.Linear(hidden_size, hidden_size),\n",
    "            nn.ReLU(),\n",
    "            nn.Dropout(dropout_prob),\n",
    "            nn.Linear(hidden_size, hidden_size // 2),\n",
    "            nn.ReLU(),\n",
    "            nn.Dropout(dropout_prob),\n",
    "            nn.Linear(hidden_size // 2, num_labels)\n",
    "        )\n",
    "\n",
    "    def forward(self, input_ids=None, attention_mask=None, labels=None): # forward pass\n",
    "        outputs = self.roberta(input_ids=input_ids, attention_mask=attention_mask) # get the outputs from the base model\n",
    "        cls_output = outputs.last_hidden_state[:, 0, :]  # CLS token output\n",
    "        logits = self.classifier(cls_output)\n",
    "\n",
    "        loss = None\n",
    "        if labels is not None:\n",
    "            loss_fct = nn.CrossEntropyLoss() # loss function\n",
    "            loss = loss_fct(logits, labels)\n",
    "\n",
    "        return SequenceClassifierOutput( # return the outputs\n",
    "            loss=loss,\n",
    "            logits=logits,\n",
    "            hidden_states=outputs.hidden_states if hasattr(outputs, \"hidden_states\") else None,\n",
    "            attentions=outputs.attentions if hasattr(outputs, \"attentions\") else None\n",
    "        )\n",
    "\n",
    "\n",
    "\n",
    "\n",
    "\n",
    "\n",
    "\n",
    "\n",
    "model = CustomClassifier(base_model, hidden_size=768, num_labels=3)\n",
    "\n",
    "\n",
    "# Tokenization\n",
    "def tokenize(example):\n",
    "    return tokenizer(\n",
    "        example[\"text\"],\n",
    "        padding=\"max_length\", # pad the sequences to the maximum length\n",
    "        truncation=True, # truncate the sequences to the maximum length\n",
    "        max_length=512,\n",
    "        return_attention_mask=True\n",
    "    )\n",
    "\n"
   ]
  },
  {
   "cell_type": "markdown",
   "id": "b4953893",
   "metadata": {},
   "source": [
    "## Dataset Manipulation"
   ]
  },
  {
   "cell_type": "code",
   "execution_count": 6,
   "id": "1b8df4ae",
   "metadata": {},
   "outputs": [],
   "source": [
    "# build the text column\n",
    "def build_text(df):\n",
    "    return df[\"name\"] + \" \" + df[\"description\"] + \" \" + df[\"country\"] # concatenate the name, description and country columns\n",
    "\n",
    "# preprocessing\n",
    "train_df = train_df.dropna(subset=[\"name\", \"description\", \"label\"])\n",
    "val_df = val_df.dropna(subset=[\"name\", \"description\", \"label\"])\n",
    "train_df[\"text\"] = build_text(train_df)\n",
    "val_df[\"text\"] = build_text(val_df)\n",
    "\n",
    "# label encoding\n",
    "label_enc = LabelEncoder()\n",
    "train_df[\"label_encoded\"] = label_enc.fit_transform(train_df[\"label\"])\n",
    "val_df[\"label_encoded\"] = label_enc.transform(val_df[\"label\"])\n",
    "\n",
    "# conversion to Dataset HuggingFace\n",
    "train_dataset = Dataset.from_pandas(train_df[[\"text\", \"label_encoded\"]].rename(columns={\"label_encoded\": \"label\"}))\n",
    "val_dataset = Dataset.from_pandas(val_df[[\"text\", \"label_encoded\"]].rename(columns={\"label_encoded\": \"label\"}))\n"
   ]
  },
  {
   "cell_type": "code",
   "execution_count": 7,
   "id": "e58009ee",
   "metadata": {},
   "outputs": [
    {
     "data": {
      "application/vnd.jupyter.widget-view+json": {
       "model_id": "f0c03a9292bd4c61a4ea82f44cf8d61e",
       "version_major": 2,
       "version_minor": 0
      },
      "text/plain": [
       "Map:   0%|          | 0/6251 [00:00<?, ? examples/s]"
      ]
     },
     "metadata": {},
     "output_type": "display_data"
    },
    {
     "data": {
      "application/vnd.jupyter.widget-view+json": {
       "model_id": "b7679a5e253648529045124d387f8bc6",
       "version_major": 2,
       "version_minor": 0
      },
      "text/plain": [
       "Map:   0%|          | 0/300 [00:00<?, ? examples/s]"
      ]
     },
     "metadata": {},
     "output_type": "display_data"
    }
   ],
   "source": [
    "# tokenization\n",
    "train_dataset = train_dataset.map(tokenize, batched=True)\n",
    "val_dataset = val_dataset.map(tokenize, batched=True)\n",
    "train_dataset = train_dataset.remove_columns([\"text\"])\n",
    "val_dataset = val_dataset.remove_columns([\"text\"])\n",
    "\n",
    "# set format for PyTorch\n",
    "train_dataset.set_format(\"torch\")\n",
    "val_dataset.set_format(\"torch\")"
   ]
  },
  {
   "cell_type": "markdown",
   "id": "f43f3c3b",
   "metadata": {},
   "source": [
    "## Training"
   ]
  },
  {
   "cell_type": "code",
   "execution_count": null,
   "id": "ee06e86a",
   "metadata": {},
   "outputs": [
    {
     "data": {
      "text/html": [
       "\n",
       "    <div>\n",
       "      \n",
       "      <progress value='3128' max='3128' style='width:300px; height:20px; vertical-align: middle;'></progress>\n",
       "      [3128/3128 05:31, Epoch 8/8]\n",
       "    </div>\n",
       "    <table border=\"1\" class=\"dataframe\">\n",
       "  <thead>\n",
       " <tr style=\"text-align: left;\">\n",
       "      <th>Step</th>\n",
       "      <th>Training Loss</th>\n",
       "    </tr>\n",
       "  </thead>\n",
       "  <tbody>\n",
       "    <tr>\n",
       "      <td>100</td>\n",
       "      <td>0.932200</td>\n",
       "    </tr>\n",
       "    <tr>\n",
       "      <td>200</td>\n",
       "      <td>0.677500</td>\n",
       "    </tr>\n",
       "    <tr>\n",
       "      <td>300</td>\n",
       "      <td>0.592300</td>\n",
       "    </tr>\n",
       "    <tr>\n",
       "      <td>400</td>\n",
       "      <td>0.579600</td>\n",
       "    </tr>\n",
       "    <tr>\n",
       "      <td>500</td>\n",
       "      <td>0.499500</td>\n",
       "    </tr>\n",
       "    <tr>\n",
       "      <td>600</td>\n",
       "      <td>0.545700</td>\n",
       "    </tr>\n",
       "    <tr>\n",
       "      <td>700</td>\n",
       "      <td>0.505100</td>\n",
       "    </tr>\n",
       "    <tr>\n",
       "      <td>800</td>\n",
       "      <td>0.492200</td>\n",
       "    </tr>\n",
       "    <tr>\n",
       "      <td>900</td>\n",
       "      <td>0.413600</td>\n",
       "    </tr>\n",
       "    <tr>\n",
       "      <td>1000</td>\n",
       "      <td>0.402800</td>\n",
       "    </tr>\n",
       "    <tr>\n",
       "      <td>1100</td>\n",
       "      <td>0.462600</td>\n",
       "    </tr>\n",
       "    <tr>\n",
       "      <td>1200</td>\n",
       "      <td>0.395400</td>\n",
       "    </tr>\n",
       "    <tr>\n",
       "      <td>1300</td>\n",
       "      <td>0.342200</td>\n",
       "    </tr>\n",
       "    <tr>\n",
       "      <td>1400</td>\n",
       "      <td>0.328100</td>\n",
       "    </tr>\n",
       "    <tr>\n",
       "      <td>1500</td>\n",
       "      <td>0.346700</td>\n",
       "    </tr>\n",
       "    <tr>\n",
       "      <td>1600</td>\n",
       "      <td>0.314000</td>\n",
       "    </tr>\n",
       "    <tr>\n",
       "      <td>1700</td>\n",
       "      <td>0.256500</td>\n",
       "    </tr>\n",
       "    <tr>\n",
       "      <td>1800</td>\n",
       "      <td>0.247200</td>\n",
       "    </tr>\n",
       "    <tr>\n",
       "      <td>1900</td>\n",
       "      <td>0.297700</td>\n",
       "    </tr>\n",
       "    <tr>\n",
       "      <td>2000</td>\n",
       "      <td>0.240700</td>\n",
       "    </tr>\n",
       "    <tr>\n",
       "      <td>2100</td>\n",
       "      <td>0.236100</td>\n",
       "    </tr>\n",
       "    <tr>\n",
       "      <td>2200</td>\n",
       "      <td>0.247800</td>\n",
       "    </tr>\n",
       "    <tr>\n",
       "      <td>2300</td>\n",
       "      <td>0.218100</td>\n",
       "    </tr>\n",
       "    <tr>\n",
       "      <td>2400</td>\n",
       "      <td>0.166300</td>\n",
       "    </tr>\n",
       "    <tr>\n",
       "      <td>2500</td>\n",
       "      <td>0.176700</td>\n",
       "    </tr>\n",
       "    <tr>\n",
       "      <td>2600</td>\n",
       "      <td>0.198000</td>\n",
       "    </tr>\n",
       "    <tr>\n",
       "      <td>2700</td>\n",
       "      <td>0.183400</td>\n",
       "    </tr>\n",
       "    <tr>\n",
       "      <td>2800</td>\n",
       "      <td>0.180700</td>\n",
       "    </tr>\n",
       "    <tr>\n",
       "      <td>2900</td>\n",
       "      <td>0.157300</td>\n",
       "    </tr>\n",
       "    <tr>\n",
       "      <td>3000</td>\n",
       "      <td>0.163600</td>\n",
       "    </tr>\n",
       "    <tr>\n",
       "      <td>3100</td>\n",
       "      <td>0.170100</td>\n",
       "    </tr>\n",
       "  </tbody>\n",
       "</table><p>"
      ],
      "text/plain": [
       "<IPython.core.display.HTML object>"
      ]
     },
     "metadata": {},
     "output_type": "display_data"
    }
   ],
   "source": [
    "training_args = TrainingArguments( # define training arguments\n",
    "    output_dir=\"./results\", # output directory for the model\n",
    "    do_train=True,\n",
    "    do_eval=True,\n",
    "    learning_rate=2e-5,\n",
    "    per_device_train_batch_size=16,\n",
    "    num_train_epochs=8, # number of epochs\n",
    "    weight_decay=0.01,\n",
    "    logging_dir='./logs',\n",
    "    logging_steps=100,\n",
    "    save_steps=1000,\n",
    "    eval_steps=500,\n",
    "    disable_tqdm=False,\n",
    "    fp16=True, # use mixed precision training if available\n",
    ")\n",
    "\n",
    "\n",
    "# Trainer\n",
    "trainer = Trainer( # create a Trainer instance\n",
    "    model=model,\n",
    "    args=training_args,\n",
    "    train_dataset=train_dataset,\n",
    "    eval_dataset=val_dataset,\n",
    "    compute_metrics=compute_metrics,\n",
    ")\n",
    "\n",
    "trainer.train()\n",
    "trainer.save_model(\"lm_cultural_classifier\")"
   ]
  },
  {
   "cell_type": "markdown",
   "id": "fb837708",
   "metadata": {},
   "source": [
    "## Predictions"
   ]
  },
  {
   "cell_type": "code",
   "execution_count": 9,
   "id": "e7404be0",
   "metadata": {},
   "outputs": [
    {
     "data": {
      "image/png": "[encoded data removed]",
      "text/plain": [
       "<Figure size 1000x800 with 2 Axes>"
      ]
     },
     "metadata": {},
     "output_type": "display_data"
    },
    {
     "name": "stdout",
     "output_type": "stream",
     "text": [
      "                         precision    recall  f1-score   support\n",
      "\n",
      "      cultural agnostic       0.89      0.93      0.91       117\n",
      "     cultural exclusive       0.63      0.70      0.66        76\n",
      "cultural representative       0.74      0.65      0.70       107\n",
      "\n",
      "               accuracy                           0.77       300\n",
      "              macro avg       0.76      0.76      0.76       300\n",
      "           weighted avg       0.77      0.77      0.77       300\n",
      "\n"
     ]
    }
   ],
   "source": [
    "predict(val_df, \"dev_predictions.csv\")\n",
    "device = torch.device(\"cuda\" if torch.cuda.is_available() else \"cpu\") # move model to GPU if available\n",
    "model.to(device)\n",
    "\n",
    "val_inputs = tokenizer(val_df[\"text\"].tolist(), padding=True, truncation=True, return_tensors=\"pt\") # tokenize the validation set\n",
    "val_inputs = {k: v.to(device) for k, v in val_inputs.items()}\n",
    "\n",
    "with torch.no_grad(): # disable gradient calculation\n",
    "    val_outputs = model(**val_inputs)\n",
    "    val_preds = val_outputs.logits.argmax(dim=1).detach().cpu().numpy() # get the predictions\n",
    "val_df[\"classification\"] = label_enc.inverse_transform(val_preds) # inverse transform the predictions to get the original labels\n",
    "\n",
    "plot_confusion_matrix(val_df)\n",
    "print(classification_report(val_df[\"label\"], val_df[\"classification\"], target_names=label_enc.classes_))"
   ]
  }
 ],
 "metadata": {
  "kernelspec": {
   "display_name": "Python 3",
   "language": "python",
   "name": "python3"
  },
  "language_info": {
   "codemirror_mode": {
    "name": "ipython",
    "version": 3
   },
   "file_extension": ".py",
   "mimetype": "text/x-python",
   "name": "python",
   "nbconvert_exporter": "python",
   "pygments_lexer": "ipython3",
   "version": "3.11.5"
  }
 },
 "nbformat": 4,
 "nbformat_minor": 5
}
